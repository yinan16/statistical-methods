{
 "cells": [
  {
   "cell_type": "code",
   "execution_count": null,
   "id": "9d0a896a",
   "metadata": {},
   "outputs": [],
   "source": [
    "import numpy as np\n",
    "import seaborn as sns"
   ]
  },
  {
   "cell_type": "code",
   "execution_count": null,
   "id": "5212cccb",
   "metadata": {},
   "outputs": [],
   "source": [
    "x = np.array([3.1, 2.9, 2.0, 4.4, 3.7, 4.1, 4.2, 6.0, 3.9, 4.5])"
   ]
  },
  {
   "cell_type": "code",
   "execution_count": null,
   "id": "5ffbbc5b",
   "metadata": {},
   "outputs": [],
   "source": [
    "sorted(x)"
   ]
  },
  {
   "cell_type": "code",
   "execution_count": null,
   "id": "740df41e",
   "metadata": {},
   "outputs": [],
   "source": [
    "counts, bins = np.histogram(x, bins=5)\n",
    "print(bins, counts)"
   ]
  },
  {
   "cell_type": "code",
   "execution_count": null,
   "id": "b2ed552e",
   "metadata": {},
   "outputs": [],
   "source": [
    "sns.histplot(x);"
   ]
  },
  {
   "cell_type": "code",
   "execution_count": null,
   "id": "9c4a131c",
   "metadata": {},
   "outputs": [],
   "source": [
    "from scipy import stats\n",
    "# Let's use a Gaussian distribution to model the data\n",
    "# In Gaussian distribution, the maximum likelihood estimations \n",
    "# for the mean and standard deviation are the sample mean and \n",
    "# the sample standard deviation, respectively.\n",
    "mean = x.mean()\n",
    "std = x.std()\n",
    "print(f\"Maximum likelihood estimation: mean={mean} and std={std}\")\n",
    "\n",
    "dist = stats.norm(loc=mean, scale=std)\n",
    "\n",
    "# Use the stats library to estimate the parameters using MLE\n",
    "params = stats.norm.fit(x)\n",
    "print(f\"The MLE of the params are {params}\")"
   ]
  },
  {
   "cell_type": "code",
   "execution_count": null,
   "id": "bb70cb4d",
   "metadata": {},
   "outputs": [],
   "source": [
    "# After the params are estimated, we can plot the PDF\n",
    "xrange = np.linspace(2, 6, 100)\n",
    "sns.lineplot(x=xrange, y=dist.pdf(xrange));"
   ]
  },
  {
   "cell_type": "code",
   "execution_count": null,
   "id": "ca42077a",
   "metadata": {},
   "outputs": [],
   "source": [
    "# Is this Gaussian distribution a good model for this dataset?\n",
    "# QQ-plot\n",
    "ps = np.linspace(0.1, 0.9, 5)\n",
    "data_quantiles = np.quantile(x, ps)\n",
    "print(\"Data quantiles\", data_quantiles)\n",
    "gaussian_quantiles = dist.ppf(ps)\n",
    "print(\"Gaussian quantiles\", gaussian_quantiles)\n",
    "sns.scatterplot(x=data_quantiles, y=gaussian_quantiles)\n",
    "# 45 degree line\n",
    "sns.lineplot(x=np.linspace(2.5, 5, 100), \n",
    "             y=np.linspace(2.5, 5, 100))"
   ]
  },
  {
   "cell_type": "code",
   "execution_count": null,
   "id": "61a6356f",
   "metadata": {},
   "outputs": [],
   "source": [
    "# We can also calculate the probability of events using CDF\n",
    "# What is the probability of x falling between 3 and 4?\n",
    "print(dist.cdf(4) - dist.cdf(3))\n",
    "\n",
    "# What is the probability of x falling between 2 and 6?\n",
    "print(dist.cdf(6) - dist.cdf(2))\n",
    "\n",
    "# What is the probability of x taking a value larger than 5?\n",
    "print(1-dist.cdf(5))"
   ]
  },
  {
   "cell_type": "code",
   "execution_count": null,
   "id": "de55cf7c",
   "metadata": {},
   "outputs": [],
   "source": [
    "dist1 = stats.norm(loc=mean, scale=std)\n",
    "dist2 = stats.norm(loc=6, scale=0.3)\n",
    "pi1 = 0.4\n",
    "pi2 = 0.6\n",
    "xrange_gmm = np.linspace(2, 10, 100)\n",
    "pdf_gmm = pi1*dist1.pdf(xrange_gmm) + pi2*dist2.pdf(xrange_gmm)\n",
    "sns.lineplot(x=xrange_gmm, y=pdf_gmm);"
   ]
  },
  {
   "cell_type": "code",
   "execution_count": null,
   "id": "80da7b71",
   "metadata": {},
   "outputs": [],
   "source": [
    "# Probability of x taking a value smaller than 20?\n",
    "print(pi1*dist1.cdf(20) + pi2*dist2.cdf(20))\n",
    "# Why? "
   ]
  }
 ],
 "metadata": {
  "kernelspec": {
   "display_name": "Python 3 (ipykernel)",
   "language": "python",
   "name": "python3"
  },
  "language_info": {
   "codemirror_mode": {
    "name": "ipython",
    "version": 3
   },
   "file_extension": ".py",
   "mimetype": "text/x-python",
   "name": "python",
   "nbconvert_exporter": "python",
   "pygments_lexer": "ipython3",
   "version": "3.8.10"
  }
 },
 "nbformat": 4,
 "nbformat_minor": 5
}
